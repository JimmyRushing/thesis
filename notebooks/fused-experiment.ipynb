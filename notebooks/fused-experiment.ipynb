{
 "cells": [
  {
   "cell_type": "code",
   "execution_count": 1,
   "id": "923d2ab9",
   "metadata": {
    "tags": []
   },
   "outputs": [
    {
     "name": "stderr",
     "output_type": "stream",
     "text": [
      "/Users/jimmy/miniconda3/envs/morphct-ex/lib/python3.7/site-packages/h5py/__init__.py:46: DeprecationWarning: `np.typeDict` is a deprecated alias for `np.sctypeDict`.\n",
      "  from ._conv import register_converters as _register_converters\n"
     ]
    }
   ],
   "source": [
    "import os\n",
    "import mbuild as mb\n",
    "import gsd.hoomd\n",
    "import hoomd\n",
    "import matplotlib.pyplot as plt\n",
    "from mbuild import packing\n",
    "import itertools as it\n",
    "import numpy as np\n",
    "from morphct import execute_qcc as eqcc\n",
    "from morphct import mobility_kmc as kmc\n",
    "from morphct import chromophores\n",
    "from morphct import kmc_analyze\n",
    "from morphct.chromophores import conversion_dict\n",
    "from morphct.chromophores import amber_dict"
   ]
  },
  {
   "cell_type": "code",
   "execution_count": 19,
   "id": "94be6ed4",
   "metadata": {},
   "outputs": [],
   "source": [
    "#this is where you designate which molecule you want to investigate\n",
    "path = \"data/fillbox-gsds-fused/\"\n",
    "fused_thiophene = \"C4CC3C(C2C(C1C(CCS1)S2)S3)S4\"\n",
    "molecule = mb.load(fused_thiophene, smiles=True)\n",
    "transfer_integral_list_fillbox =[]"
   ]
  },
  {
   "cell_type": "code",
   "execution_count": 20,
   "id": "0c222de8",
   "metadata": {
    "scrolled": true,
    "tags": []
   },
   "outputs": [],
   "source": [
    "if not os.path.isdir(path):\n",
    "    os.makedirs(path)\n",
    "\n",
    "seed = 10\n",
    "\n",
    "for seed in range(seed):\n",
    "    \n",
    "    \n",
    "    system = packing.fill_box(molecule,\n",
    "                              n_compounds=2,\n",
    "                              density = 50,\n",
    "                              overlap = .3,\n",
    "                              seed=seed,\n",
    "                              fix_orientation=False)\n",
    "\n",
    "    system.save(path + str(seed)+ \".gsd\",overwrite=True)  "
   ]
  },
  {
   "cell_type": "code",
   "execution_count": 21,
   "id": "61b2ffa6",
   "metadata": {
    "tags": []
   },
   "outputs": [
    {
     "name": "stdout",
     "output_type": "stream",
     "text": [
      "the HOMO for your molecule is -8.787709443356034 eV\n",
      "the LUMO is 0.0095615946262293 eV\n",
      "band gap is: 8.797271037982263\n",
      "CPU times: user 16.1 ms, sys: 29.2 ms, total: 45.4 ms\n",
      "Wall time: 1.92 s\n"
     ]
    }
   ],
   "source": [
    "%%time\n",
    "with gsd.hoomd.open(name=path + \"1.gsd\", mode='rb') as f:\n",
    "    snap = f[0]\n",
    "#isolate the indeces for one thiophene for input into morph\n",
    "chromo_id = list(range(0,molecule.n_particles))\n",
    "chromo_list=[]\n",
    "\n",
    "chromo_list.append(chromophores.Chromophore(0, snap, chromo_id, \"donor\", amber_dict))\n",
    "\n",
    "homolumo = eqcc.singles_homolumo(chromo_list)\n",
    "\n",
    "print(\"the HOMO for your molecule is \" + str(homolumo[0][1]) +\" eV\")\n",
    "print(\"the LUMO is \" + str(homolumo[0][2]) + \" eV\")\n",
    "bandgap= np.abs(homolumo[0][1] - homolumo[0][2])\n",
    "print(\"band gap is: \" + str(bandgap))"
   ]
  },
  {
   "cell_type": "code",
   "execution_count": 5,
   "id": "aa3b6846",
   "metadata": {},
   "outputs": [],
   "source": [
    "path = \"data/fillbox-gsds-fused-5mer/\"\n",
    "fused_thiophene = \"C5CC4C(C3C(C1C(C2C(S1)CCS2)S3)S4)S5\"\n",
    "molecule = mb.load(fused_thiophene, smiles=True)\n",
    "transfer_integral_list_fillbox =[]\n",
    "if not os.path.isdir(path):\n",
    "    os.makedirs(path)\n",
    "\n",
    "seed = 10\n",
    "\n",
    "for seed in range(seed):\n",
    "    \n",
    "    \n",
    "    system = packing.fill_box(molecule,\n",
    "                              n_compounds=2,\n",
    "                              density = 50,\n",
    "                              overlap = .3,\n",
    "                              seed=seed,\n",
    "                              fix_orientation=False)\n",
    "\n",
    "    system.save(path + str(seed)+ \".gsd\",overwrite=True)  \n",
    "    "
   ]
  },
  {
   "cell_type": "code",
   "execution_count": 6,
   "id": "925d8020",
   "metadata": {
    "tags": []
   },
   "outputs": [
    {
     "name": "stdout",
     "output_type": "stream",
     "text": [
      "the HOMO for your molecule is -8.826501021384185 eV\n",
      "the LUMO is -0.16673402422699013 eV\n",
      "band gap is: 8.659766997157195\n",
      "CPU times: user 17 ms, sys: 21.4 ms, total: 38.4 ms\n",
      "Wall time: 1.43 s\n"
     ]
    }
   ],
   "source": [
    "%%time\n",
    "with gsd.hoomd.open(name=path + \"1.gsd\", mode='rb') as f:\n",
    "    snap = f[0]\n",
    "#isolate the indeces for one thiophene for input into morph\n",
    "chromo_id = list(range(0,molecule.n_particles))\n",
    "chromo_list=[]\n",
    "\n",
    "chromo_list.append(chromophores.Chromophore(0, snap, chromo_id, \"donor\", amber_dict))\n",
    "\n",
    "homolumo = eqcc.singles_homolumo(chromo_list)\n",
    "\n",
    "print(\"the HOMO for your molecule is \" + str(homolumo[0][1]) +\" eV\")\n",
    "print(\"the LUMO is \" + str(homolumo[0][2]) + \" eV\")\n",
    "bandgap= np.abs(homolumo[0][1] - homolumo[0][2])\n",
    "print(\"band gap is: \" + str(bandgap))"
   ]
  },
  {
   "cell_type": "code",
   "execution_count": 7,
   "id": "fcad7688",
   "metadata": {
    "tags": []
   },
   "outputs": [],
   "source": [
    "path = \"data/fillbox-gsds-fused-6mer/\"\n",
    "fused_thiophene = \"C6CC5C(C4C(C1C(C2C(S1)C3C(S2)CCS3)S4)S5)S6\"\n",
    "molecule = mb.load(fused_thiophene, smiles=True)\n",
    "transfer_integral_list_fillbox =[]\n",
    "if not os.path.isdir(path):\n",
    "    os.makedirs(path)\n",
    "\n",
    "seed = 10\n",
    "\n",
    "for seed in range(seed):\n",
    "    \n",
    "    \n",
    "    system = packing.fill_box(molecule,\n",
    "                              n_compounds=2,\n",
    "                              density = 50,\n",
    "                              overlap = .3,\n",
    "                              seed=seed,\n",
    "                              fix_orientation=False)\n",
    "\n",
    "    system.save(path + str(seed)+ \".gsd\",overwrite=True)  "
   ]
  },
  {
   "cell_type": "code",
   "execution_count": 8,
   "id": "40942c1c",
   "metadata": {
    "tags": []
   },
   "outputs": [
    {
     "name": "stdout",
     "output_type": "stream",
     "text": [
      "the HOMO for your molecule is -8.658602104213335 eV\n",
      "the LUMO is -0.23926387039597197 eV\n",
      "band gap is: 8.419338233817363\n",
      "CPU times: user 19.1 ms, sys: 22.7 ms, total: 41.8 ms\n",
      "Wall time: 1.22 s\n"
     ]
    }
   ],
   "source": [
    "%%time\n",
    "with gsd.hoomd.open(name=path + \"1.gsd\", mode='rb') as f:\n",
    "    snap = f[0]\n",
    "#isolate the indeces for one thiophene for input into morph\n",
    "chromo_id = list(range(0,molecule.n_particles))\n",
    "chromo_list=[]\n",
    "\n",
    "chromo_list.append(chromophores.Chromophore(0, snap, chromo_id, \"donor\", amber_dict))\n",
    "\n",
    "homolumo = eqcc.singles_homolumo(chromo_list)\n",
    "\n",
    "print(\"the HOMO for your molecule is \" + str(homolumo[0][1]) +\" eV\")\n",
    "print(\"the LUMO is \" + str(homolumo[0][2]) + \" eV\")\n",
    "bandgap= np.abs(homolumo[0][1] - homolumo[0][2])\n",
    "print(\"band gap is: \" + str(bandgap))"
   ]
  },
  {
   "cell_type": "code",
   "execution_count": 15,
   "id": "758ef0d4",
   "metadata": {
    "tags": []
   },
   "outputs": [],
   "source": [
    "path = \"data/fillbox-gsds-fused-7mer/\"\n",
    "fused_thiophene = \"C7CC6C(C5C(C1C(C2C(S1)C3C(S2)C4C(S3)CCS4)S5)S6)S7\"\n",
    "molecule = mb.load(fused_thiophene, smiles=True)\n",
    "transfer_integral_list_fillbox =[]\n",
    "if not os.path.isdir(path):\n",
    "    os.makedirs(path)\n",
    "\n",
    "seed = 10\n",
    "\n",
    "for seed in range(seed):\n",
    "    \n",
    "    \n",
    "    system = packing.fill_box(molecule,\n",
    "                              n_compounds=2,\n",
    "                              density = 50,\n",
    "                              overlap = .3,\n",
    "                              seed=seed,\n",
    "                              fix_orientation=False)\n",
    "\n",
    "    system.save(path + str(seed)+ \".gsd\",overwrite=True)  "
   ]
  },
  {
   "cell_type": "code",
   "execution_count": 16,
   "id": "877b24e2",
   "metadata": {
    "tags": []
   },
   "outputs": [
    {
     "name": "stdout",
     "output_type": "stream",
     "text": [
      "the HOMO for your molecule is -8.835781422570147 eV\n",
      "the LUMO is -0.31181555467758176 eV\n",
      "band gap is: 8.523965867892565\n",
      "CPU times: user 22.2 ms, sys: 30.4 ms, total: 52.6 ms\n",
      "Wall time: 2.14 s\n"
     ]
    }
   ],
   "source": [
    "%%time\n",
    "with gsd.hoomd.open(name=path + \"1.gsd\", mode='rb') as f:\n",
    "    snap = f[0]\n",
    "#isolate the indeces for one thiophene for input into morph\n",
    "chromo_id = list(range(0,molecule.n_particles))\n",
    "chromo_list=[]\n",
    "\n",
    "chromo_list.append(chromophores.Chromophore(0, snap, chromo_id, \"donor\", amber_dict))\n",
    "\n",
    "homolumo = eqcc.singles_homolumo(chromo_list)\n",
    "\n",
    "print(\"the HOMO for your molecule is \" + str(homolumo[0][1]) +\" eV\")\n",
    "print(\"the LUMO is \" + str(homolumo[0][2]) + \" eV\")\n",
    "bandgap= np.abs(homolumo[0][1] - homolumo[0][2])\n",
    "print(\"band gap is: \" + str(bandgap))"
   ]
  },
  {
   "cell_type": "code",
   "execution_count": 22,
   "id": "91c7081a",
   "metadata": {
    "tags": []
   },
   "outputs": [],
   "source": [
    "path = \"data/fillbox-gsds-fused-8mer/\"\n",
    "fused_thiophene = \"CC8CC7C(C6C(C1C(C2C(S1)C3C(S2)C4C(S3)C5C(S4)CCS5)S6)S7)S8\"\n",
    "molecule = mb.load(fused_thiophene, smiles=True)\n",
    "transfer_integral_list_fillbox =[]\n",
    "if not os.path.isdir(path):\n",
    "    os.makedirs(path)\n",
    "\n",
    "seed = 10\n",
    "\n",
    "for seed in range(seed):\n",
    "    \n",
    "    \n",
    "    system = packing.fill_box(molecule,\n",
    "                              n_compounds=2,\n",
    "                              density = 50,\n",
    "                              overlap = .3,\n",
    "                              seed=seed,\n",
    "                              fix_orientation=False)\n",
    "\n",
    "    system.save(path + str(seed)+ \".gsd\",overwrite=True)  "
   ]
  },
  {
   "cell_type": "code",
   "execution_count": 23,
   "id": "c221940f",
   "metadata": {
    "tags": []
   },
   "outputs": [
    {
     "name": "stdout",
     "output_type": "stream",
     "text": [
      "the HOMO for your molecule is -8.827557951525499 eV\n",
      "the LUMO is -0.46108400030361235 eV\n",
      "band gap is: 8.366473951221886\n",
      "CPU times: user 26.4 ms, sys: 27.1 ms, total: 53.5 ms\n",
      "Wall time: 2.1 s\n"
     ]
    }
   ],
   "source": [
    "%%time\n",
    "with gsd.hoomd.open(name=path + \"1.gsd\", mode='rb') as f:\n",
    "    snap = f[0]\n",
    "#isolate the indeces for one thiophene for input into morph\n",
    "chromo_id = list(range(0,molecule.n_particles))\n",
    "chromo_list=[]\n",
    "\n",
    "chromo_list.append(chromophores.Chromophore(0, snap, chromo_id, \"donor\", amber_dict))\n",
    "\n",
    "homolumo = eqcc.singles_homolumo(chromo_list)\n",
    "\n",
    "print(\"the HOMO for your molecule is \" + str(homolumo[0][1]) +\" eV\")\n",
    "print(\"the LUMO is \" + str(homolumo[0][2]) + \" eV\")\n",
    "bandgap= np.abs(homolumo[0][1] - homolumo[0][2])\n",
    "print(\"band gap is: \" + str(bandgap))"
   ]
  },
  {
   "cell_type": "code",
   "execution_count": 13,
   "id": "9b6fb6ce",
   "metadata": {
    "tags": []
   },
   "outputs": [],
   "source": [
    "path = \"data/fillbox-gsds-fused-1mer/\"\n",
    "fused_thiophene = \"C1=CSC=C1\"\n",
    "molecule = mb.load(fused_thiophene, smiles=True)\n",
    "transfer_integral_list_fillbox =[]\n",
    "if not os.path.isdir(path):\n",
    "    os.makedirs(path)\n",
    "\n",
    "seed = 10\n",
    "\n",
    "for seed in range(seed):\n",
    "    \n",
    "    \n",
    "    system = packing.fill_box(molecule,\n",
    "                              n_compounds=2,\n",
    "                              density = 50,\n",
    "                              overlap = .3,\n",
    "                              seed=seed,\n",
    "                              fix_orientation=False)\n",
    "\n",
    "    system.save(path + str(seed)+ \".gsd\",overwrite=True)  "
   ]
  },
  {
   "cell_type": "code",
   "execution_count": 14,
   "id": "8d3c22db",
   "metadata": {
    "tags": []
   },
   "outputs": [
    {
     "name": "stdout",
     "output_type": "stream",
     "text": [
      "the HOMO for your molecule is -8.474040027742822 eV\n",
      "the LUMO is 0.7752928935988113 eV\n",
      "band gap is: 9.249332921341633\n",
      "CPU times: user 11.8 ms, sys: 26.9 ms, total: 38.7 ms\n",
      "Wall time: 1.88 s\n"
     ]
    }
   ],
   "source": [
    "%%time\n",
    "with gsd.hoomd.open(name=path + \"1.gsd\", mode='rb') as f:\n",
    "    snap = f[0]\n",
    "#isolate the indeces for one thiophene for input into morph\n",
    "chromo_id = list(range(0,molecule.n_particles))\n",
    "chromo_list=[]\n",
    "\n",
    "chromo_list.append(chromophores.Chromophore(0, snap, chromo_id, \"donor\", amber_dict))\n",
    "\n",
    "homolumo = eqcc.singles_homolumo(chromo_list)\n",
    "\n",
    "print(\"the HOMO for your molecule is \" + str(homolumo[0][1]) +\" eV\")\n",
    "print(\"the LUMO is \" + str(homolumo[0][2]) + \" eV\")\n",
    "bandgap= np.abs(homolumo[0][1] - homolumo[0][2])\n",
    "print(\"band gap is: \" + str(bandgap))"
   ]
  },
  {
   "cell_type": "markdown",
   "id": "9a38d168",
   "metadata": {},
   "source": [
    "i did some silly stuff above with fill box but scientist like boring stuff so instead i need to take a 0mer a 2mer etc all shift up the z axis and then compare to DFT or whatever i can find"
   ]
  },
  {
   "cell_type": "code",
   "execution_count": 26,
   "id": "2b51fdcb",
   "metadata": {
    "tags": []
   },
   "outputs": [
    {
     "name": "stdout",
     "output_type": "stream",
     "text": [
      "CPU times: user 1e+03 ns, sys: 0 ns, total: 1e+03 ns\n",
      "Wall time: 5.72 µs\n"
     ]
    }
   ],
   "source": [
    "%time\n",
    "\n",
    "path = \"data/analysis_gsds_planar/\"\n",
    "    \n",
    "smi = \"C1=CSC=C1\"\n",
    "\n",
    "thiophene = mb.load(smi, smiles=True)\n",
    "\n",
    "if not os.path.isdir(path):\n",
    "    os.makedirs(path)\n",
    "    \n",
    "transfer_integral_list = []\n",
    "\n",
    "frames = 40\n",
    "\n",
    "for i in range(0,frames):\n",
    "    \n",
    "    thiophene = mb.load(smi, smiles=True)\n",
    "    \n",
    "    name = f\"thiophene-{i}.gsd\"\n",
    "\n",
    "    system = mb.Compound()\n",
    "    system.add(mb.clone(thiophene), \"1\")\n",
    "    system.add(mb.clone(thiophene), \"2\")\n",
    "    #raise the thiophene up by an increment beteen 2-10 angs\n",
    "\n",
    "    system[\"2\"].translate([0,0, .2 + i * .01])\n",
    "    \n",
    "    system.save(path +name, overwrite=True)\n",
    "\n",
    "    gsd_file = path + name\n",
    "\n",
    "    with gsd.hoomd.open(name=gsd_file, mode='rb') as f:\n",
    "        snap = f[0]\n",
    "\n",
    "    ref_distance = 1\n",
    "\n",
    "    snap.particles.position *= ref_distance\n",
    "    snap.configuration.box[:3] *= ref_distance\n",
    "    chromo_ids = np.array([0,1,2,3,4,5,6,7,8,])\n",
    "    chromo2_ids = np.array([9,10,11,12,13,14,15,16,17])\n",
    "    aaids=[]\n",
    "    aaids.append(chromo_ids)\n",
    "    aaids.append(chromo2_ids)\n",
    "\n",
    "    chromo_list = []\n",
    "    for j,aaid in enumerate(aaids):\n",
    "        chromo_list.append(chromophores.Chromophore(j, snap, aaid, \"donor\", amber_dict))\n",
    "\n",
    "    qcc_pairs = chromophores.set_neighbors_voronoi(chromo_list, snap, amber_dict, d_cut=100)\n",
    "\n",
    "    dimer_data = eqcc.dimer_homolumo(qcc_pairs, chromo_list, \"two-molecule-test.txt\")\n",
    "\n",
    "    data = eqcc.singles_homolumo(chromo_list, \"singles.txt\")\n",
    "\n",
    "    eqcc.set_energyvalues(chromo_list, \"singles.txt\", \"two-molecule-test.txt\")\n",
    "\n",
    "    chromo =chromo_list[1]\n",
    "\n",
    "    transfer_integral_list.append((.25 + i * .01,chromo.neighbors_ti[0]))"
   ]
  },
  {
   "cell_type": "code",
   "execution_count": 27,
   "id": "10adf04b",
   "metadata": {},
   "outputs": [
    {
     "data": {
      "image/png": "[encoded data removed]",
      "text/plain": [
       "<Figure size 720x720 with 1 Axes>"
      ]
     },
     "metadata": {
      "needs_background": "light"
     },
     "output_type": "display_data"
    }
   ],
   "source": [
    "\n",
    "x = [i[0] for i in transfer_integral_list]\n",
    "y = [i[1] for i in transfer_integral_list]\n",
    "\n",
    "fig = plt.figure(figsize = (10, 10))\n",
    "ax = plt.axes()\n",
    "ax.set_xlabel('angstrom',fontdict=dict(weight='bold'))\n",
    "ax.set_ylabel('TI',fontdict=dict(weight='bold'))\n",
    "\n",
    "#ax.set_title('Thiophene Transfer Integrals')\n",
    "p = ax.plot(x, y,'o', linewidth=10);\n"
   ]
  },
  {
   "cell_type": "markdown",
   "id": "6d53ee1e",
   "metadata": {},
   "source": [
    "# 2mer TI's"
   ]
  },
  {
   "cell_type": "code",
   "execution_count": 22,
   "id": "5a7f75f2",
   "metadata": {},
   "outputs": [
    {
     "name": "stdout",
     "output_type": "stream",
     "text": [
      "CPU times: user 3 µs, sys: 0 ns, total: 3 µs\n",
      "Wall time: 6.2 µs\n"
     ]
    }
   ],
   "source": [
    "%time\n",
    "transfer_integral_list_2 = []\n",
    "path = \"data/analysis_gsds_planar_2mer/\"\n",
    "    \n",
    "smi = \"C1=CSC2=C1SC=C2\"\n",
    "\n",
    "thiophene = mb.load(smi, smiles=True)\n",
    "\n",
    "if not os.path.isdir(path):\n",
    "    os.makedirs(path)\n",
    "    \n",
    "transfer_integral_list2 = []\n",
    "\n",
    "frames = 40\n",
    "\n",
    "for i in range(0,frames):\n",
    "    \n",
    "    thiophene = mb.load(smi, smiles=True)\n",
    "    \n",
    "    name = f\"thiophene-{i}.gsd\"\n",
    "\n",
    "    system = mb.Compound()\n",
    "    system.add(mb.clone(thiophene), \"1\")\n",
    "    system.add(mb.clone(thiophene), \"2\")\n",
    "    #raise the thiophene up by an increment beteen 2-10 angs\n",
    "\n",
    "    system[\"2\"].translate([0,0, .2 + i * .01])\n",
    "    \n",
    "    system.save(path +name, overwrite=True)\n",
    "\n",
    "    gsd_file = path + name\n",
    "\n",
    "    with gsd.hoomd.open(name=gsd_file, mode='rb') as f:\n",
    "        snap = f[0]\n",
    "\n",
    "    ref_distance = 1\n",
    "\n",
    "    snap.particles.position *= ref_distance\n",
    "    snap.configuration.box[:3] *= ref_distance\n",
    "\n",
    "    chromo_id = list(range(0,thiophene.n_particles))\n",
    "\n",
    "    chromo_id2 = [x + thiophene.n_particles for x in chromo_id]\n",
    "    \n",
    "    chromo_list=[]\n",
    "\n",
    "    chromo_list.append(chromophores.Chromophore(0, snap, chromo_id, \"donor\", amber_dict))\n",
    "    chromo_list.append(chromophores.Chromophore(1, snap, chromo_id2, \"donor\", amber_dict))\n",
    "\n",
    "    qcc_pairs = chromophores.set_neighbors_voronoi(chromo_list, snap, amber_dict, d_cut=100)\n",
    "\n",
    "    dimer_data = eqcc.dimer_homolumo(qcc_pairs, chromo_list, \"two-molecule-test.txt\")\n",
    "\n",
    "    data = eqcc.singles_homolumo(chromo_list, \"singles.txt\")\n",
    "\n",
    "    eqcc.set_energyvalues(chromo_list, \"singles.txt\", \"two-molecule-test.txt\")\n",
    "\n",
    "    chromo = chromo_list[1]\n",
    "\n",
    "    transfer_integral_list_2.append((.25 + i * .01,chromo.neighbors_ti[0]))"
   ]
  },
  {
   "cell_type": "code",
   "execution_count": 24,
   "id": "05994912",
   "metadata": {},
   "outputs": [
    {
     "data": {
      "image/png": "[encoded data removed]",
      "text/plain": [
       "<Figure size 720x720 with 1 Axes>"
      ]
     },
     "metadata": {
      "needs_background": "light"
     },
     "output_type": "display_data"
    }
   ],
   "source": [
    "x = [i[0] for i in transfer_integral_list_2]\n",
    "y = [i[1] for i in transfer_integral_list_2]\n",
    "\n",
    "fig = plt.figure(figsize = (10, 10))\n",
    "ax = plt.axes()\n",
    "ax.set_xlabel('angstrom',fontdict=dict(weight='bold'))\n",
    "ax.set_ylabel('TI',fontdict=dict(weight='bold'))\n",
    "\n",
    "#ax.set_title('Thiophene Transfer Integrals')\n",
    "p = ax.plot(x, y, linewidth=10);"
   ]
  },
  {
   "cell_type": "code",
   "execution_count": 18,
   "id": "ccf36ac8",
   "metadata": {},
   "outputs": [
    {
     "data": {
      "text/plain": [
       "[]"
      ]
     },
     "execution_count": 18,
     "metadata": {},
     "output_type": "execute_result"
    }
   ],
   "source": [
    "transfer_integral_list2"
   ]
  },
  {
   "cell_type": "code",
   "execution_count": 30,
   "id": "62b9706e",
   "metadata": {},
   "outputs": [
    {
     "name": "stdout",
     "output_type": "stream",
     "text": [
      "CPU times: user 4 µs, sys: 1 µs, total: 5 µs\n",
      "Wall time: 39.3 µs\n"
     ]
    }
   ],
   "source": [
    "%time\n",
    "transfer_integral_list_3 = []\n",
    "path = \"data/analysis_gsds_planar_3mer/\"\n",
    "    \n",
    "smi = \"S1C=CC2=C1C1=C(S2)C=CS1\"\n",
    "\n",
    "thiophene = mb.load(smi, smiles=True)\n",
    "\n",
    "if not os.path.isdir(path):\n",
    "    os.makedirs(path)\n",
    "    \n",
    "transfer_integral_list2 = []\n",
    "\n",
    "frames = 40\n",
    "\n",
    "for i in range(0,frames):\n",
    "    \n",
    "    thiophene = mb.load(smi, smiles=True)\n",
    "    \n",
    "    name = f\"thiophene-{i}.gsd\"\n",
    "\n",
    "    system = mb.Compound()\n",
    "    system.add(mb.clone(thiophene), \"1\")\n",
    "    system.add(mb.clone(thiophene), \"2\")\n",
    "    #raise the thiophene up by an increment beteen 2-10 angs\n",
    "    box = mb.Box([2,2,2])\n",
    "\n",
    "    system[\"2\"].translate([0,0, .2 + i * .01])\n",
    "    \n",
    "    system.save(path +name,box = box, overwrite=True)\n",
    "\n",
    "    gsd_file = path + name\n",
    "\n",
    "    with gsd.hoomd.open(name=gsd_file, mode='rb') as f:\n",
    "        snap = f[0]\n",
    "\n",
    "    ref_distance = 1\n",
    "\n",
    "    snap.particles.position *= ref_distance\n",
    "    snap.configuration.box[:3] *= ref_distance\n",
    "\n",
    "    chromo_id = list(range(0,thiophene.n_particles))\n",
    "\n",
    "    chromo_id2 = [x + thiophene.n_particles for x in chromo_id]\n",
    "    chromo_id3 = [x + thiophene.n_particles for x in chromo_id]\n",
    "    chromo_list=[]\n",
    "\n",
    "    chromo_list.append(chromophores.Chromophore(0, snap, chromo_id, \"donor\", amber_dict))\n",
    "    chromo_list.append(chromophores.Chromophore(1, snap, chromo_id2, \"donor\", amber_dict))\n",
    "\n",
    "    qcc_pairs = chromophores.set_neighbors_voronoi(chromo_list, snap, amber_dict, d_cut=100)\n",
    "\n",
    "    dimer_data = eqcc.dimer_homolumo(qcc_pairs, chromo_list, \"two-molecule-test.txt\")\n",
    "\n",
    "    data = eqcc.singles_homolumo(chromo_list, \"singles.txt\")\n",
    "\n",
    "    eqcc.set_energyvalues(chromo_list, \"singles.txt\", \"two-molecule-test.txt\")\n",
    "\n",
    "    chromo = chromo_list[1]\n",
    "\n",
    "    transfer_integral_list_3.append((.25 + i * .01,chromo.neighbors_ti[0]))"
   ]
  },
  {
   "cell_type": "code",
   "execution_count": 31,
   "id": "e4d2822b",
   "metadata": {},
   "outputs": [
    {
     "data": {
      "image/png": "[encoded data removed]",
      "text/plain": [
       "<Figure size 720x720 with 1 Axes>"
      ]
     },
     "metadata": {
      "needs_background": "light"
     },
     "output_type": "display_data"
    }
   ],
   "source": [
    "x = [i[0] for i in transfer_integral_list_3]\n",
    "y = [i[1] for i in transfer_integral_list_3]\n",
    "\n",
    "fig = plt.figure(figsize = (10, 10))\n",
    "ax = plt.axes()\n",
    "ax.set_xlabel('angstrom',fontdict=dict(weight='bold'))\n",
    "ax.set_ylabel('TI',fontdict=dict(weight='bold'))\n",
    "\n",
    "#ax.set_title('Thiophene Transfer Integrals')\n",
    "p = ax.plot(x, y, linewidth=10);"
   ]
  },
  {
   "cell_type": "code",
   "execution_count": 14,
   "id": "36ef14fd",
   "metadata": {},
   "outputs": [],
   "source": [
    "path = \"data/analysis_gsds_planar_3mer/\"\n",
    "    \n",
    "smi = \"S1C=CC2=C1C3=C(S2)C4=C(S3)C5=C(S4)C6=C(S5)C=CS6\"\n",
    "\n",
    "thiophene = mb.load(smi, smiles=True)\n",
    "#box = mb.Box([10,10,10])\n",
    "system = mb.Compound()\n",
    "mb.coordinate_transform.y_axis_transform\n",
    "system.add(mb.clone(thiophene), \"1\")\n",
    "system.add(mb.clone(thiophene), \"2\")\n",
    "\n",
    "#raise the thiophene up by an increment beteen 2-10 angs\n",
    "\n",
    "\n",
    "\n",
    "system[\"2\"].translate([0,0, .3])\n",
    "\n",
    "system.save(\"why_are_they_tilted.gsd\", overwrite=True)\n"
   ]
  },
  {
   "cell_type": "code",
   "execution_count": 9,
   "id": "17bb2c5d",
   "metadata": {},
   "outputs": [
    {
     "data": {
      "text/plain": [
       "array([[ 6.99924176e-02, -6.79527900e-02, -3.75418099e-03],\n",
       "       [ 1.25390724e-01,  5.92698580e-02, -6.11085938e-03],\n",
       "       [-1.62480247e-04,  1.70784967e-01,  5.88432045e-04],\n",
       "       [-1.25503232e-01,  5.89876575e-02,  6.51831957e-03],\n",
       "       [-6.98629615e-02, -6.81100985e-02,  3.28565230e-03],\n",
       "       [ 1.29259454e-01, -1.58397034e-01, -7.04499082e-03],\n",
       "       [ 2.30932727e-01,  8.23122886e-02, -1.13459139e-02],\n",
       "       [-2.31088868e-01,  8.17926307e-02,  1.19108893e-02],\n",
       "       [-1.28957780e-01, -1.58687479e-01,  5.95265189e-03]])"
      ]
     },
     "execution_count": 9,
     "metadata": {},
     "output_type": "execute_result"
    }
   ],
   "source": [
    "thiophene.xyz"
   ]
  },
  {
   "cell_type": "markdown",
   "id": "09c32926",
   "metadata": {},
   "source": [
    "Getting the TI as a function of distance is taking too long . mbuild wont cooperate. The more important thing is getting HOMO LUMO as a function of nnumber of thiophene rings, which I will do below"
   ]
  },
  {
   "cell_type": "code",
   "execution_count": null,
   "id": "2ac62be0",
   "metadata": {},
   "outputs": [],
   "source": [
    "C1=CSC=C1\n",
    "C1=CSC2=C1SC=C2\n",
    "S1C=CC2=C1C1=C(S2)C=CS1\n",
    "S1C=CC2=C1C3=C(S2)C4=C(S3)C=CS4\n",
    "S1C=CC2=C1C3=C(S2)C4=C(S3)C5=C(S4)C=CS5\n",
    "S1C=CC2=C1C3=C(S2)C4=C(S3)C5=C(S4)C6=C(S5)C=CS6\n",
    "S1C=CC2=C1C3=C(S2)C4=C(S3)C5=C(S4)C6=C(S5)C7=C(S6)C=CS7\n",
    "S1C=CC2=C1C3=C(S2)C4=C(S3)C5=C(S4)C6=C(S5)C7=C(S6)C8=C(S7)C=CS8"
   ]
  },
  {
   "cell_type": "code",
   "execution_count": 2,
   "id": "56d74487",
   "metadata": {},
   "outputs": [],
   "source": [
    "path = \"/Users/jimmy/repos/morphct-jimmy/examples/data/analysis_gsds_planar\"\n",
    "smiles_list = []\n",
    "smiles_list.append(\"C1=CSC=C1\")\n",
    "smiles_list.append(\"C1=CSC2=C1SC=C2\")\n",
    "smiles_list.append(\"S1C=CC2=C1C1=C(S2)C=CS1\")\n",
    "smiles_list.append(\"S1C=CC2=C1C3=C(S2)C4=C(S3)C=CS4\")\n",
    "smiles_list.append(\"S1C=CC2=C1C3=C(S2)C4=C(S3)C5=C(S4)C=CS5\")\n",
    "smiles_list.append(\"S1C=CC2=C1C3=C(S2)C4=C(S3)C5=C(S4)C6=C(S5)C=CS6\")\n",
    "smiles_list.append(\"S1C=CC2=C1C3=C(S2)C4=C(S3)C5=C(S4)C6=C(S5)C7=C(S6)C=CS7\")\n",
    "smiles_list.append(\"S1C=CC2=C1C3=C(S2)C4=C(S3)C5=C(S4)C6=C(S5)C7=C(S6)C8=C(S7)C=CS8\")"
   ]
  },
  {
   "cell_type": "code",
   "execution_count": 3,
   "id": "5ee27b4b",
   "metadata": {},
   "outputs": [
    {
     "data": {
      "text/plain": [
       "['C1=CSC=C1',\n",
       " 'C1=CSC2=C1SC=C2',\n",
       " 'S1C=CC2=C1C1=C(S2)C=CS1',\n",
       " 'S1C=CC2=C1C3=C(S2)C4=C(S3)C=CS4',\n",
       " 'S1C=CC2=C1C3=C(S2)C4=C(S3)C5=C(S4)C=CS5',\n",
       " 'S1C=CC2=C1C3=C(S2)C4=C(S3)C5=C(S4)C6=C(S5)C=CS6',\n",
       " 'S1C=CC2=C1C3=C(S2)C4=C(S3)C5=C(S4)C6=C(S5)C7=C(S6)C=CS7',\n",
       " 'S1C=CC2=C1C3=C(S2)C4=C(S3)C5=C(S4)C6=C(S5)C7=C(S6)C8=C(S7)C=CS8']"
      ]
     },
     "execution_count": 3,
     "metadata": {},
     "output_type": "execute_result"
    }
   ],
   "source": [
    "smiles_list"
   ]
  },
  {
   "cell_type": "code",
   "execution_count": 4,
   "id": "b2593e2b",
   "metadata": {},
   "outputs": [
    {
     "name": "stdout",
     "output_type": "stream",
     "text": [
      "the HOMO for your molecule is -8.474022484306364 eV\n",
      "the LUMO is 0.775315285317703 eV\n",
      "band gap is: 9.249337769624066\n",
      "the HOMO for your molecule is -7.825962550219628 eV\n",
      "the LUMO is 0.556083661835353 eV\n",
      "band gap is: 8.38204621205498\n",
      "the HOMO for your molecule is -7.453826442343411 eV\n",
      "the LUMO is 0.2915379768884329 eV\n",
      "band gap is: 7.745364419231844\n",
      "the HOMO for your molecule is -7.200488588592653 eV\n",
      "the LUMO is 0.06885058667282136 eV\n",
      "band gap is: 7.269339175265475\n",
      "the HOMO for your molecule is -7.027100888026539 eV\n",
      "the LUMO is -0.09716834639153574 eV\n",
      "band gap is: 6.9299325416350035\n",
      "the HOMO for your molecule is -6.901297021438986 eV\n",
      "the LUMO is -0.22216597029778917 eV\n",
      "band gap is: 6.679131051141197\n",
      "the HOMO for your molecule is -6.807986143735338 eV\n",
      "the LUMO is -0.3186193690630281 eV\n",
      "band gap is: 6.48936677467231\n",
      "the HOMO for your molecule is -6.736375312369798 eV\n",
      "the LUMO is -0.3944078121905445 eV\n",
      "band gap is: 6.341967500179254\n"
     ]
    }
   ],
   "source": [
    "wjhomo_lumos = []\n",
    "\n",
    "for i, fused_smiles in enumerate(smiles_list):\n",
    "    \n",
    "    name = f'{i}mer.gsd'\n",
    "    \n",
    "    smi = fused_smiles\n",
    "    \n",
    "    thiophene = mb.load(smi, smiles=True)\n",
    "    \n",
    "    system = mb.Compound()\n",
    "    \n",
    "    system.add(mb.clone(thiophene), \"1\")\n",
    "    \n",
    "    system.save(path+name, overwrite=True)\n",
    "    \n",
    "    with gsd.hoomd.open(name=path+name, mode='rb') as f:\n",
    "        snap = f[0]\n",
    "    \n",
    "    chromo_id = list(range(0,thiophene.n_particles))\n",
    "    \n",
    "    chromo_list=[]\n",
    "\n",
    "    chromo_list.append(chromophores.Chromophore(0, snap, chromo_id, \"donor\", amber_dict))\n",
    "\n",
    "    homolumo = eqcc.singles_homolumo(chromo_list)\n",
    "\n",
    "    print(\"the HOMO for your molecule is \" + str(homolumo[0][1]) +\" eV\")\n",
    "    print(\"the LUMO is \" + str(homolumo[0][2]) + \" eV\")\n",
    "    bandgap= np.abs(homolumo[0][1] - homolumo[0][2])\n",
    "    print(\"band gap is: \" + str(bandgap))\n",
    "    \n",
    "    homo_lumos.append(homolumo)\n"
   ]
  },
  {
   "cell_type": "code",
   "execution_count": 15,
   "id": "a8adab45",
   "metadata": {},
   "outputs": [
    {
     "data": {
      "text/plain": [
       "'/Users/jimmy/repos/thesis/notebooks'"
      ]
     },
     "execution_count": 15,
     "metadata": {},
     "output_type": "execute_result"
    }
   ],
   "source": [
    "pwd"
   ]
  },
  {
   "cell_type": "code",
   "execution_count": null,
   "id": "5705e7f2",
   "metadata": {},
   "outputs": [],
   "source": [
    "homo_lumos"
   ]
  },
  {
   "cell_type": "code",
   "execution_count": 5,
   "id": "c1e2b013",
   "metadata": {},
   "outputs": [],
   "source": [
    "band_gap = []\n",
    "for x in homo_lumos:\n",
    "    band_gap.append(np.abs(x[0][1] - x[0][2]))"
   ]
  },
  {
   "cell_type": "code",
   "execution_count": 6,
   "id": "7f1a9214",
   "metadata": {},
   "outputs": [
    {
     "data": {
      "text/plain": [
       "[9.249337769624066,\n",
       " 8.38204621205498,\n",
       " 7.745364419231844,\n",
       " 7.269339175265475,\n",
       " 6.9299325416350035,\n",
       " 6.679131051141197,\n",
       " 6.48936677467231,\n",
       " 6.341967500179254]"
      ]
     },
     "execution_count": 6,
     "metadata": {},
     "output_type": "execute_result"
    }
   ],
   "source": [
    "band_gap"
   ]
  },
  {
   "cell_type": "code",
   "execution_count": 7,
   "id": "004c6945",
   "metadata": {},
   "outputs": [
    {
     "data": {
      "text/plain": [
       "[<matplotlib.lines.Line2D at 0x7fc69e61d4d0>]"
      ]
     },
     "execution_count": 7,
     "metadata": {},
     "output_type": "execute_result"
    },
    {
     "data": {
      "image/png": "[encoded data removed]",
      "text/plain": [
       "<Figure size 432x288 with 1 Axes>"
      ]
     },
     "metadata": {
      "needs_background": "light"
     },
     "output_type": "display_data"
    }
   ],
   "source": [
    "plt.plot(band_gap)"
   ]
  },
  {
   "cell_type": "code",
   "execution_count": 8,
   "id": "58aa4c9f",
   "metadata": {},
   "outputs": [
    {
     "data": {
      "image/png": "[encoded data removed]",
      "text/plain": [
       "<Figure size 720x720 with 1 Axes>"
      ]
     },
     "metadata": {
      "needs_background": "light"
     },
     "output_type": "display_data"
    }
   ],
   "source": [
    "y = band_gap\n",
    "x = [1,2,3,4,5,6,7,8]\n",
    "\n",
    "fig = plt.figure(figsize = (6, 6))\n",
    "ax = plt.axes()\n",
    "ax.set_xlabel('Number of rings',fontdict=dict(weight='bold'),labelpad = 15, fontsize = 14)\n",
    "ax.set_ylabel('HOMO-LUMO gap (eV)',fontdict=dict(weight='bold'), labelpad = 15, fontsize = 14)\n",
    "\n",
    "#ax.set_title('Thiophene Transfer Integrals')\n",
    "p = ax.plot(x, y,'o', color = 'black', linewidth=2, markersize = 15);\n",
    "fig.savefig('fused-ring-homolumo.png', facecolor = \"white\", dpi = 1000)"
   ]
  },
  {
   "cell_type": "code",
   "execution_count": 9,
   "id": "93dd0df2",
   "metadata": {},
   "outputs": [
    {
     "ename": "NameError",
     "evalue": "name 'band_gap' is not defined",
     "output_type": "error",
     "traceback": [
      "\u001b[0;31m---------------------------------------------------------------------------\u001b[0m",
      "\u001b[0;31mNameError\u001b[0m                                 Traceback (most recent call last)",
      "\u001b[0;32m<ipython-input-9-9d4ef341206d>\u001b[0m in \u001b[0;36m<module>\u001b[0;34m\u001b[0m\n\u001b[0;32m----> 1\u001b[0;31m \u001b[0mband_gap\u001b[0m\u001b[0;34m[\u001b[0m\u001b[0;36m3\u001b[0m\u001b[0;34m:\u001b[0m\u001b[0;36m8\u001b[0m\u001b[0;34m]\u001b[0m\u001b[0;34m\u001b[0m\u001b[0;34m\u001b[0m\u001b[0m\n\u001b[0m",
      "\u001b[0;31mNameError\u001b[0m: name 'band_gap' is not defined"
     ]
    }
   ],
   "source": [
    "band_gap[3:8]"
   ]
  },
  {
   "cell_type": "code",
   "execution_count": 12,
   "id": "3b769284",
   "metadata": {},
   "outputs": [
    {
     "data": {
      "image/png": "[encoded data removed]",
      "text/plain": [
       "<Figure size 720x720 with 1 Axes>"
      ]
     },
     "metadata": {
      "needs_background": "light"
     },
     "output_type": "display_data"
    }
   ],
   "source": [
    "y = band_gap[3:8]\n",
    "x = [4,5,6,7,8]\n",
    "\n",
    "fig = plt.figure(figsize = (10, 10))\n",
    "ax = plt.axes()\n",
    "plt.xticks(fontsize=14)\n",
    "plt.yticks(fontsize=14)\n",
    "ax.set_xlabel('Number of rings',fontdict=dict(weight='bold'),labelpad = 15, fontsize = 16)\n",
    "ax.set_ylabel('HOMO-LUMO gap (eV)',fontdict=dict(weight='bold'), labelpad = 15, fontsize = 16)\n",
    "\n",
    "#ax.set_title('Thiophene Transfer Integrals')\n",
    "p = ax.plot(x, y,'o', color = 'black',linestyle='--', linewidth=2, markersize = 15);\n",
    "fig.savefig('fused-ring-homolumo.png', facecolor = \"white\", dpi = 300)"
   ]
  },
  {
   "cell_type": "code",
   "execution_count": null,
   "id": "66731f04",
   "metadata": {},
   "outputs": [],
   "source": []
  }
 ],
 "metadata": {
  "kernelspec": {
   "display_name": "Python 3",
   "language": "python",
   "name": "python3"
  },
  "language_info": {
   "codemirror_mode": {
    "name": "ipython",
    "version": 3
   },
   "file_extension": ".py",
   "mimetype": "text/x-python",
   "name": "python",
   "nbconvert_exporter": "python",
   "pygments_lexer": "ipython3",
   "version": "3.7.10"
  }
 },
 "nbformat": 4,
 "nbformat_minor": 5
}
