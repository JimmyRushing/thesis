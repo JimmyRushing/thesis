{
 "cells": [
  {
   "cell_type": "markdown",
   "id": "a3609cbd",
   "metadata": {},
   "source": [
    "# Test an organic molecules HOMO/LUMO and Transfer Integral With morphCT.\n",
    "\n",
    "1. this notebooks seeks to display a simple workflow for using morphct functionalities to explore  the energetics of a given organic molecule. The energy level at the HOMO/LUMO is the foundation for everything morphct does. with that, veryfiying the accuracy of this calculation is a crucial first step when investigating a new molecule with morhct. \n",
    "2. In this notebook we will consider thiophene, which is the fundemental building block of P3HT (a benchmark electron donating compound. We will use to establish a worklow for comparing Morphct outputs with DFT or experimental results. However, this worklow should easily adapt to any organic compound whose energetic properties we might wish to investigate. \n",
    "3. Morphct models the charge mobility of a substance by considering where a charge may delocalize (on a chromophore) and modeling the rate at which that delocalized charge will hop to nieghboring molecules (or chromophores). Having done this for every chromophore in a morphology, morphct can run a simulation to model how well charges move around the environment.\n",
    "4. Morphct models the rate at which a hop will take place between any two chromophores with semi classical Marcus Theory. To do so requires an accurate description of the driving force for electron transfer, and the orbital overlap of the two chromophores. Both of these can be estimated with the chromophores energy levels at the HOMO/LUMO (highest occupied molecular orbital/ lowest unoccupies molecular orbital). This estimation is a simplification for computational purposes, and it is, therefore, critical to verify that these assumptions match more rigorous theoretical techniques like DFT and experimental results (to whatever degree they are available). \n",
    "5. In short, we will take two thiophene rings to be two chromophores. Morphct will calculate the HOMO of both chomophores as well as the orbital overlap between them, as measured by the transfer integral (also estimated by the interaction of the two chromophores HOMOs). We will repeat this over thousands of angles and distances between the two rings."
   ]
  },
  {
   "cell_type": "code",
   "execution_count": 1,
   "id": "2a7c4142",
   "metadata": {
    "tags": []
   },
   "outputs": [
    {
     "name": "stderr",
     "output_type": "stream",
     "text": [
      "/Users/jimmy/miniconda3/envs/morphct-ex/lib/python3.7/site-packages/h5py/__init__.py:46: DeprecationWarning: `np.typeDict` is a deprecated alias for `np.sctypeDict`.\n",
      "  from ._conv import register_converters as _register_converters\n"
     ]
    }
   ],
   "source": [
    "import os\n",
    "import mbuild as mb\n",
    "import gsd.hoomd\n",
    "import hoomd\n",
    "import matplotlib.pyplot as plt\n",
    "from mbuild import packing\n",
    "import itertools as it\n",
    "import numpy as np\n",
    "from morphct import execute_qcc as eqcc\n",
    "from morphct import mobility_kmc as kmc\n",
    "from morphct import chromophores\n",
    "from morphct import kmc_analyze\n",
    "from morphct.chromophores import conversion_dict\n",
    "from morphct.chromophores import amber_dict\n",
    "from morphct.helper_functions import get_hop_rate\n",
    "\n"
   ]
  },
  {
   "cell_type": "markdown",
   "id": "55970907",
   "metadata": {},
   "source": [
    "# Below we specify the smiles string for the molecule of interest (mbuild takes mol2 as well) and we use the mbuild fill_box to put two of these molecule in a box together with random orientations. We do this 100 times and save the outputs as gsds in the data/fillbox-gsds/ directory. Fill_box allows you to specifiy the density as well as the minimum distance apart that molecules should sit. In this case I have chosen .3nm, as this is what evans paper says is physically acceptable. "
   ]
  },
  {
   "cell_type": "markdown",
   "id": "4911b3f5",
   "metadata": {},
   "source": [
    "MorphCT uses pySCF to do the quantum chemical calculations behind the above numbers. PYSCF uses a MINDO3 method to simplify the calculation. As you can see it only took seconds to calculate (go ahead and solve shrodingers in that time I dare you). The diagram below shows that the numbers are comparable to the more rigorous DFT methods used in the work cited below. "
   ]
  },
  {
   "cell_type": "code",
   "execution_count": null,
   "id": "28f993f8",
   "metadata": {},
   "outputs": [],
   "source": [
    "# https://doi.org/10.1016/j.molliq.2017.05.020\n",
    "from IPython import display\n",
    "display.Image(\"thiophene.jpg\")"
   ]
  },
  {
   "cell_type": "markdown",
   "id": "e6a5f22c",
   "metadata": {},
   "source": [
    "# TRANSFER INTEGRALS\n",
    "Now we can get the transfer integral for our gsds. "
   ]
  },
  {
   "cell_type": "markdown",
   "id": "a6913568",
   "metadata": {},
   "source": [
    " That gives a sample of randomly oreinted thiophenes. Printing the average vs the max\n",
    " to get an understanding of the shape of the data. in the supplimental info of this paper\n",
    " (https://www.mdpi.com/2073-4360/10/12/1358) it says TI variation within a factor of 2-3 \n",
    " is not expected to effect the mobility calculation and this is within those bounds"
   ]
  },
  {
   "cell_type": "code",
   "execution_count": null,
   "id": "bab4031a",
   "metadata": {
    "tags": []
   },
   "outputs": [],
   "source": [
    "heat_tuple_list = []\n",
    "transfer_integral_list = []\n",
    "path = \"/Users/jimmy/cmelab/data/TI/angled\"\n",
    "if not os.path.isdir(path):\n",
    "    os.makedirs(path)\n",
    "smi = \"C1=CSC=C1\"\n",
    "thiophene = mb.load(smi, smiles=True)\n",
    "distances = np.linspace(0, 0.5, 10)\n",
    "angles = np.linspace(0, np.pi/2, 10) # rotate around the sulfur axis (x-axis)\n",
    "# or pitch although i cant understand why the sulfur isnt the cockpit\n",
    "snap_list = []\n",
    "#create a product space of distances and angles as delineated above. get two distances\n",
    "# and two angles. assuming distance is a distance from the origin the if the distances from\n",
    "# they are on top of each other and you can skip that one as in line 13\n",
    "for d1, a1, d2, a2 in it.product(distances, angles, repeat=2):\n",
    "    name = f\"thiophene_d-{d1:.1f}-{d2:.1f}_a-{a1:.1f}-{a2:.1f}.gsd\"\n",
    "    if d1 == 0 and d2 == 0:\n",
    "        continue\n",
    "    #trying to say if the c - c distance is less than .3nm from evans paper \n",
    "    #skip they are too close for real life. and above .5 the TI is too weak\n",
    "    #just from o\n",
    "    if np.sqrt(d1**2+d2**2) < .3 or np.sqrt(d1**2+d2**2) > .5:\n",
    "        continue\n",
    "    system = mb.Compound()\n",
    "    system.add(mb.clone(thiophene), \"1\")\n",
    "    system.add(mb.clone(thiophene), \"2\")\n",
    "    system[\"2\"].rotate(a1, [0,0,1]) \n",
    "    system[\"2\"].rotate(a2,[1,0,0])\n",
    "    system[\"2\"].translate([d1,0,d2])\n",
    "    system.save(path+name, overwrite=True)\n",
    "    gsd_file = path + name\n",
    "    with gsd.hoomd.open(name=gsd_file, mode='rb') as f:\n",
    "        snap = f[0]\n",
    "        \n",
    "    ref_distance = 1\n",
    "    \n",
    "    snap.particles.position *= ref_distance\n",
    "    snap.configuration.box[:3] *= ref_distance\n",
    "    chromo_ids = np.array([0,1,2,3,4,5,6,7,8,])\n",
    "    chromo2_ids = np.array([9,10,11,12,13,14,15,16,17])\n",
    "    aaids=[]\n",
    "    aaids.append(chromo_ids)\n",
    "    aaids.append(chromo2_ids)\n",
    "    \n",
    "    chromo_list = []\n",
    "    for j,aaid in enumerate(aaids):\n",
    "        chromo_list.append(chromophores.Chromophore(j, snap, aaid, \"donor\", amber_dict))\n",
    "        \n",
    "    qcc_pairs = chromophores.set_neighbors_voronoi(chromo_list, snap, amber_dict, d_cut=100)\n",
    "    \n",
    "    dimer_data = eqcc.dimer_homolumo(qcc_pairs, chromo_list, path +\"two-molecule-test.txt\")\n",
    "    \n",
    "    data = eqcc.singles_homolumo(chromo_list, path + \"singles.txt\")\n",
    "    \n",
    "    eqcc.set_energyvalues(chromo_list, path + \"singles.txt\", path + \"two-molecule-test.txt\")\n",
    "    \n",
    "    chromo =chromo_list[1]\n",
    "    #dont know if ill need this or if the math is right\n",
    "    #ss_dist= np.sqrt((d1*np.cos(a1))**2+(d1*np.sin(a1))**2+d2**2)\n",
    "    cc_dist = np.sqrt(d1**2+d2**2)\n",
    "    heat_tuple_list.append([cc_dist, a2 , chromo.neighbors_ti[0]])\n",
    "    \n",
    "    transfer_integral_list.append(chromo.neighbors_ti[0])"
   ]
  },
  {
   "cell_type": "code",
   "execution_count": null,
   "id": "d0d87e5b",
   "metadata": {},
   "outputs": [],
   "source": [
    "import seaborn as sns\n",
    "x = [i[0] for i in heat_tuple_list]\n",
    "y = [i[1] for i in heat_tuple_list]\n",
    "z = [i[2] for i in heat_tuple_list]\n",
    "ax = plt.axes(projection='3d')\n",
    "ax.scatter(x, y, z, c=z, cmap='viridis', linewidth=0.5);"
   ]
  },
  {
   "cell_type": "code",
   "execution_count": null,
   "id": "ba75be65",
   "metadata": {},
   "outputs": [],
   "source": [
    "#import pickle\n",
    "#system_pickle = open('transfer_integral_list.pickle','wb')\n",
    "#pickle.dump(transfer_integral_list, system_pickle)\n",
    "#system_pickle.close()"
   ]
  },
  {
   "cell_type": "code",
   "execution_count": null,
   "id": "298b27db",
   "metadata": {},
   "outputs": [],
   "source": [
    "#import seaborn as sns\n",
    "x = [i[0]*10 for i in heat_tuple_list]\n",
    "y = [i[1] for i in heat_tuple_list]\n",
    "z = [i[2] for i in heat_tuple_list]\n",
    "fig = plt.figure(figsize = (10, 10))\n",
    "ax = plt.axes(projection='3d')\n",
    "plt.xticks(fontsize=14)\n",
    "plt.yticks(fontsize=14)\n",
    "\n",
    "ax.set_xlabel('Center-to-center distance (Angstrom)',fontdict=dict(weight='bold'),fontsize=16, labelpad = 12)\n",
    "ax.set_ylabel('Pitch (Radians)',fontdict=dict(weight='bold'),fontsize=16, labelpad = 12)\n",
    "ax.set_zlabel('TI (eV)',fontdict=dict(weight='bold'),fontsize=16, labelpad = 12)\n",
    "for t in ax.zaxis.get_major_ticks(): t.label.set_fontsize(14)\n",
    "#ax.set_title('Thiophene Transfer Integrals')\n",
    "p = ax.scatter(x, y, z, c=z, cmap='rainbow', linewidth=7);\n",
    "#plt.colorbar(p, pad = .1, aspect = 2.3)\n",
    "\n",
    "\n",
    "\n",
    "fig.show()"
   ]
  },
  {
   "cell_type": "code",
   "execution_count": null,
   "id": "06114916",
   "metadata": {},
   "outputs": [],
   "source": [
    "fig.savefig('../src/figures/transfer_integral_plot', bbox_inches = \"tight\", facecolor = \"white\")"
   ]
  },
  {
   "cell_type": "code",
   "execution_count": null,
   "id": "ed5e613f",
   "metadata": {},
   "outputs": [],
   "source": [
    "import pickle"
   ]
  },
  {
   "cell_type": "code",
   "execution_count": null,
   "id": "dd5b6639",
   "metadata": {},
   "outputs": [],
   "source": [
    "file = open('cc_pitch_ti-tuple.pickle','rb')\n",
    "thios = pickle.load(file)"
   ]
  },
  {
   "cell_type": "code",
   "execution_count": null,
   "id": "fec660ea",
   "metadata": {},
   "outputs": [],
   "source": [
    "#system_pickle = open('cc_pitch_ti-tuple.pickle','wb')\n",
    "#pickle.dump(heat_tuple_list, system_pickle)\n",
    "#system_pickle.close()"
   ]
  },
  {
   "cell_type": "code",
   "execution_count": null,
   "id": "3a8e4ae6",
   "metadata": {},
   "outputs": [],
   "source": []
  },
  {
   "cell_type": "code",
   "execution_count": null,
   "id": "ad210572",
   "metadata": {},
   "outputs": [],
   "source": [
    "print(np.mean(thios))"
   ]
  },
  {
   "cell_type": "code",
   "execution_count": null,
   "id": "c65b2420",
   "metadata": {},
   "outputs": [],
   "source": [
    "cc_restrict = []\n",
    "for i in heat_tuple_list:\n",
    "    if i[0] < .4 and i[0] > .38 and i[1] <.05:\n",
    "        cc_restrict.append(i[2])"
   ]
  },
  {
   "cell_type": "code",
   "execution_count": null,
   "id": "1e38a748",
   "metadata": {
    "tags": []
   },
   "outputs": [],
   "source": [
    "len(cc_restrict)"
   ]
  },
  {
   "cell_type": "code",
   "execution_count": null,
   "id": "9e6a80fd",
   "metadata": {},
   "outputs": [],
   "source": [
    "np.mean(heat_tuple_list[0])\n"
   ]
  },
  {
   "cell_type": "code",
   "execution_count": null,
   "id": "c71615d2",
   "metadata": {},
   "outputs": [],
   "source": [
    "np.std(heat_tuple_list[0])"
   ]
  },
  {
   "cell_type": "code",
   "execution_count": null,
   "id": "85bb82d4",
   "metadata": {
    "tags": []
   },
   "outputs": [],
   "source": [
    "heat_tuple_list\n"
   ]
  },
  {
   "cell_type": "code",
   "execution_count": null,
   "id": "fda15cc2",
   "metadata": {},
   "outputs": [],
   "source": [
    "small_heat_tuple_list = []\n",
    "small_transfer_integral_list = []\n",
    "path = \"/Users/jimmy/cmelab/data/TI/angled\"\n",
    "if not os.path.isdir(path):\n",
    "    os.makedirs(path)\n",
    "smi = \"C1=CSC=C1\"\n",
    "thiophene = mb.load(smi, smiles=True)\n",
    "\n",
    "\n",
    "snap_list = []\n",
    "\n",
    "\n",
    "name = \"3.8angs.gsd\"\n",
    "\n",
    "system = mb.Compound()\n",
    "system.add(mb.clone(thiophene), \"1\")\n",
    "system.add(mb.clone(thiophene), \"2\")\n",
    "\n",
    "\n",
    "system[\"2\"].translate([0,0,.4])\n",
    "system.save(path+name, overwrite=True)\n",
    "gsd_file = path + name\n",
    "with gsd.hoomd.open(name=gsd_file, mode='rb') as f:\n",
    "    snap = f[0]\n",
    "\n",
    "ref_distance = 1\n",
    "\n",
    "snap.particles.position *= ref_distance\n",
    "snap.configuration.box[:3] *= ref_distance\n",
    "chromo_ids = np.array([0,1,2,3,4,5,6,7,8,])\n",
    "chromo2_ids = np.array([9,10,11,12,13,14,15,16,17])\n",
    "aaids=[]\n",
    "aaids.append(chromo_ids)\n",
    "aaids.append(chromo2_ids)\n",
    "\n",
    "chromo_list = []\n",
    "for j,aaid in enumerate(aaids):\n",
    "    chromo_list.append(chromophores.Chromophore(j, snap, aaid, \"donor\", amber_dict))\n",
    "\n",
    "qcc_pairs = chromophores.set_neighbors_voronoi(chromo_list, snap, amber_dict, d_cut=100)\n",
    "\n",
    "dimer_data = eqcc.dimer_homolumo(qcc_pairs, chromo_list, path +\"two-molecule-test.txt\")\n",
    "\n",
    "data = eqcc.singles_homolumo(chromo_list, path + \"singles.txt\")\n",
    "\n",
    "eqcc.set_energyvalues(chromo_list, path + \"singles.txt\", path + \"two-molecule-test.txt\")\n",
    "\n",
    "chromo =chromo_list[1]\n",
    "#dont know if ill need this or if the math is right\n",
    "#ss_dist= np.sqrt((d1*np.cos(a1))**2+(d1*np.sin(a1))**2+d2**2)\n",
    "\n",
    "small_heat_tuple_list.append(chromo.neighbors_ti[0])"
   ]
  },
  {
   "cell_type": "code",
   "execution_count": null,
   "id": "4f7557a7",
   "metadata": {},
   "outputs": [],
   "source": [
    "small_heat_tuple_list"
   ]
  },
  {
   "cell_type": "code",
   "execution_count": null,
   "id": "4e657643",
   "metadata": {
    "tags": []
   },
   "outputs": [],
   "source": [
    "thios[1408]"
   ]
  },
  {
   "cell_type": "code",
   "execution_count": null,
   "id": "bd7f203f",
   "metadata": {},
   "outputs": [],
   "source": [
    "x = 0\n",
    "index = 0\n",
    "for i, thio in enumerate(thios):\n",
    "    if thio[2] > x:\n",
    "        x = thio[2]\n",
    "        index = i"
   ]
  },
  {
   "cell_type": "code",
   "execution_count": null,
   "id": "5ce222eb",
   "metadata": {},
   "outputs": [],
   "source": [
    "x"
   ]
  },
  {
   "cell_type": "code",
   "execution_count": null,
   "id": "18bbf4c9",
   "metadata": {},
   "outputs": [],
   "source": [
    "index"
   ]
  },
  {
   "cell_type": "code",
   "execution_count": null,
   "id": "b2dca18f",
   "metadata": {},
   "outputs": [],
   "source": [
    "%%time\n",
    "heat_tuple_list = []\n",
    "transfer_integral_list = []\n",
    "path = \"TI-04-2022-new/\"\n",
    "if not os.path.isdir(path):\n",
    "    os.makedirs(path)\n",
    "smi = \"C1=CSC=C1\"\n",
    "thiophene = mb.load(smi, smiles=True)\n",
    "distances = np.linspace(0, 0.5, 12)\n",
    "angles = np.linspace(-np.pi/2, 0, 12) # rotate around the sulfur axis (x-axis)\n",
    "# or pitch although i cant understand why the sulfur isnt the cockpit\n",
    "snap_list = []\n",
    "#create a product space of distances and angles as delineated above. get two distances\n",
    "# and two angles. assuming distance is a distance from the origin the if the distances from\n",
    "# they are on top of each other and you can skip that one as in line 13\n",
    "for d1, a1, d2, a2 in it.product(distances, angles, repeat=2):\n",
    "    name = f\"thiophene_d-{d1:.1f}-{d2:.1f}_a-{a1:.1f}-{a2:.1f}.gsd\"\n",
    "    system = mb.Compound()\n",
    "    system.add(mb.clone(thiophene), \"1\")\n",
    "    system.add(mb.clone(thiophene), \"2\")\n",
    "    system[\"2\"].rotate(a2,[1,0,0])\n",
    "    system[\"2\"].rotate(a1, [0,0,1])\n",
    "    system[\"2\"].translate([d1,0,d2])\n",
    "    bottom_atoms = system[\"1\"].xyz\n",
    "    top_atoms = system[\"2\"].xyz\n",
    "    min_dist = 10\n",
    "    #calculate distance between atoms of different ring and save the minimum distance\n",
    "    for atom in bottom_atoms:\n",
    "        for x in top_atoms:\n",
    "            if np.linalg.norm(atom - x) < min_dist:\n",
    "                min_dist = np.linalg.norm(atom - x)\n",
    "    print(min_dist)\n",
    "    #if any of the atoms are less that 3 angstoms apart we dont create the gsd\n",
    "    if min_dist > .3:\n",
    "        system.save(path+name, overwrite=True)\n",
    "        gsd_file = path + name\n",
    "        with gsd.hoomd.open(name=gsd_file, mode='rb') as f:\n",
    "            snap = f[0]\n",
    "        ref_distance = 1\n",
    "        snap.particles.position *= ref_distance\n",
    "        snap.configuration.box[:3] *= ref_distance\n",
    "        chromo_ids = np.array([0,1,2,3,4,5,6,7,8,])\n",
    "        chromo2_ids = np.array([9,10,11,12,13,14,15,16,17])\n",
    "        aaids=[]\n",
    "        aaids.append(chromo_ids)\n",
    "        aaids.append(chromo2_ids)\n",
    "        chromo_list = []\n",
    "        for j,aaid in enumerate(aaids):\n",
    "            chromo_list.append(chromophores.Chromophore(j, snap, aaid, \"donor\", amber_dict))\n",
    "        qcc_pairs = chromophores.set_neighbors_voronoi(chromo_list, snap, amber_dict, d_cut=100)\n",
    "        dimer_data = eqcc.dimer_homolumo(qcc_pairs, chromo_list, path +\"two-molecule-test.txt\")\n",
    "        data = eqcc.singles_homolumo(chromo_list, path + \"singles.txt\")\n",
    "        eqcc.set_energyvalues(chromo_list, path + \"singles.txt\", path + \"two-molecule-test.txt\")\n",
    "        chromo =chromo_list[1]\n",
    "        #dont know if ill need this or if the math is right\n",
    "        #ss_dist= np.sqrt((d1*np.cos(a1))**2+(d1*np.sin(a1))**2+d2**2)\n",
    "        cc_dist = np.sqrt(d1**2+d2**2)\n",
    "        heat_tuple_list.append([cc_dist, a1, a2 , d1, d2, chromo.neighbors_ti[0]])\n",
    "        transfer_integral_list.append(chromo.neighbors_ti[0])"
   ]
  },
  {
   "cell_type": "code",
   "execution_count": null,
   "id": "c537e8ad",
   "metadata": {},
   "outputs": [],
   "source": [
    "system_pickle = open('cc_a1_a2_d1_d2_ti-tuple.pickle','wb')\n",
    "pickle.dump(heat_tuple_list, system_pickle)\n",
    "system_pickle.close()"
   ]
  },
  {
   "cell_type": "code",
   "execution_count": null,
   "id": "b5383523",
   "metadata": {},
   "outputs": [],
   "source": [
    "heat_tuple_list[1408]"
   ]
  },
  {
   "cell_type": "code",
   "execution_count": null,
   "id": "5794ee82",
   "metadata": {},
   "outputs": [],
   "source": [
    "[i[0] for i in heat_tuple_list]"
   ]
  },
  {
   "cell_type": "code",
   "execution_count": null,
   "id": "9edb8033",
   "metadata": {},
   "outputs": [],
   "source": [
    "heat_tuple_list"
   ]
  },
  {
   "cell_type": "code",
   "execution_count": 4,
   "id": "973721df",
   "metadata": {
    "jupyter": {
     "source_hidden": true
    },
    "tags": []
   },
   "outputs": [],
   "source": [
    "def get_hop_rate(\n",
    "    lambd,\n",
    "    ti,\n",
    "    delta_e,\n",
    "    prefactor,\n",
    "    temp,\n",
    "    use_vrh=False,\n",
    "    rij=0.0,\n",
    "    vrh=1.0,\n",
    "    boltz=False,\n",
    "):\n",
    "    \"\"\"Get the hopping rate.\n",
    "    Parameters\n",
    "    ----------\n",
    "    lambd : float\n",
    "        The reorganization energy in eV.\n",
    "    ti : float\n",
    "        The transfer integral between the chromophores in eV.\n",
    "    delta_e : float\n",
    "        The energy difference between the frontier orbitals of the chromophores\n",
    "        in eV.\n",
    "    prefactor : float\n",
    "        A prefactor to the rate equation.\n",
    "    temp : float\n",
    "        The temperature in Kelvin.\n",
    "    use_vrh : bool, default False\n",
    "        Whether to use variable-range hopping.\n",
    "    rij : float, default 0.0\n",
    "        The distance between the chromophores in Angstroms. (only used with VRH)\n",
    "    vrh : float, default 1.0\n",
    "        A cutoff distance in Angstroms. (only used with VRH)\n",
    "    boltz : bool, default False\n",
    "        Whether to apply a simple Boltzmann energy penalty.\n",
    "    Returns\n",
    "    -------\n",
    "    float\n",
    "        The hopping rate in inverse seconds.\n",
    "    \"\"\"\n",
    "    # Based on the input parameters, can make this the semiclassical Marcus\n",
    "    # Hopping Rate Equation, or a more generic Miller Abrahams-based hop\n",
    "    # Firstly, to prevent divide-by-zero errors:\n",
    "    if ti == 0.0:\n",
    "        return 0\n",
    "    # Regardless of hopping type, sort out the prefactor first:\n",
    "    lambd *= elem_chrg\n",
    "    ti *= elem_chrg\n",
    "    delta_e *= elem_chrg\n",
    "\n",
    "    k = prefactor * (2 * np.pi / hbar) * (ti ** 2)\n",
    "    k *= np.sqrt(1 / (4 * lambd * np.pi * k_B * temp))\n",
    "\n",
    "    # VRH?\n",
    "    if use_vrh is True:\n",
    "        k *= np.exp(-rij / vrh)\n",
    "    # Simple Boltzmann energy penalty?\n",
    "    if boltz is True:\n",
    "        # Only apply the penalty if delta_e is positive\n",
    "        if delta_e > 0.0:\n",
    "            k *= np.exp(-delta_e / (k_B * temp))\n",
    "        # Otherwise, k *= 1\n",
    "    else:\n",
    "        k *= np.exp(-((delta_e + lambd) ** 2) / (4 * lambd * k_B * temp))\n",
    "    return k"
   ]
  },
  {
   "cell_type": "code",
   "execution_count": 2,
   "id": "460317ff",
   "metadata": {},
   "outputs": [
    {
     "data": {
      "text/plain": [
       "168057087522.66382"
      ]
     },
     "execution_count": 2,
     "metadata": {},
     "output_type": "execute_result"
    }
   ],
   "source": [
    "\n",
    "get_hop_rate(.3,.01,0,1,300)"
   ]
  },
  {
   "cell_type": "code",
   "execution_count": null,
   "id": "3a3a7eca",
   "metadata": {},
   "outputs": [],
   "source": []
  }
 ],
 "metadata": {
  "kernelspec": {
   "display_name": "Python 3",
   "language": "python",
   "name": "python3"
  },
  "language_info": {
   "codemirror_mode": {
    "name": "ipython",
    "version": 3
   },
   "file_extension": ".py",
   "mimetype": "text/x-python",
   "name": "python",
   "nbconvert_exporter": "python",
   "pygments_lexer": "ipython3",
   "version": "3.7.10"
  }
 },
 "nbformat": 4,
 "nbformat_minor": 5
}
