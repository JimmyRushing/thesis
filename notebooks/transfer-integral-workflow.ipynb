{
 "cells": [
  {
   "cell_type": "markdown",
   "id": "5e1636cf",
   "metadata": {},
   "source": [
    "# Test an organic molecules HOMO/LUMO and Transfer Integral With morphCT.\n",
    "\n",
    "1. this notebooks seeks to display a simple workflow for using morphct functionalities to explore  the energetics of a given organic molecule. The energy level at the HOMO/LUMO is the foundation for everything morphct does. with that, veryfiying the accuracy of this calculation is a crucial first step when investigating a new molecule with morhct. \n",
    "2. In this notebook we will consider thiophene, which is the fundemental building block of P3HT (a benchmark electron donating compound. We will use to establish a worklow for comparing Morphct outputs with DFT or experimental results. However, this worklow should easily adapt to any organic compound whose energetic properties we might wish to investigate. \n",
    "3. Morphct models the charge mobility of a substance by considering where a charge may delocalize (on a chromophore) and modeling the rate at which that delocalized charge will hop to nieghboring molecules (or chromophores). Having done this for every chromophore in a morphology, morphct can run a simulation to model how well charges move around the environment.\n",
    "4. Morphct models the rate at which a hop will take place between any two chromophores with semi classical Marcus Theory. To do so requires an accurate description of the driving force for electron transfer, and the orbital overlap of the two chromophores. Both of these can be estimated with the chromophores energy levels at the HOMO/LUMO (highest occupied molecular orbital/ lowest unoccupies molecular orbital). This estimation is a simplification for computational purposes, and it is, therefore, critical to verify that these assumptions match more rigorous theoretical techniques like DFT and experimental results (to whatever degree they are available). \n",
    "5. In short, we will take two thiophene rings to be two chromophores. Morphct will calculate the HOMO of both chomophores as well as the orbital overlap between them, as measured by the transfer integral (also estimated by the interaction of the two chromophores HOMOs). We will repeat this over thousands of angles and distances between the two rings."
   ]
  },
  {
   "cell_type": "code",
   "execution_count": null,
   "id": "16ec7f2d",
   "metadata": {
    "tags": []
   },
   "outputs": [],
   "source": [
    "import os\n",
    "import mbuild as mb\n",
    "import gsd.hoomd\n",
    "import hoomd\n",
    "import matplotlib.pyplot as plt\n",
    "from mbuild import packing\n",
    "import itertools as it\n",
    "import numpy as np\n",
    "from morphct import execute_qcc as eqcc\n",
    "from morphct import mobility_kmc as kmc\n",
    "from morphct import chromophores\n",
    "from morphct import kmc_analyze\n",
    "from morphct.chromophores import conversion_dict\n",
    "from morphct.chromophores import amber_dict\n"
   ]
  },
  {
   "cell_type": "markdown",
   "id": "23ba090b",
   "metadata": {},
   "source": [
    "# Below we specify the smiles string for the molecule of interest (mbuild takes mol2 as well) and we use the mbuild fill_box to put two of these molecule in a box together with random orientations. We do this 100 times and save the outputs as gsds in the data/fillbox-gsds/ directory. Fill_box allows you to specifiy the density as well as the minimum distance apart that molecules should sit. In this case I have chosen .3nm, as this is what evans paper says is physically acceptable. "
   ]
  },
  {
   "cell_type": "markdown",
   "id": "20cd9592",
   "metadata": {},
   "source": [
    "MorphCT uses pySCF to do the quantum chemical calculations behind the above numbers. PYSCF uses a MINDO3 method to simplify the calculation. As you can see it only took seconds to calculate (go ahead and solve shrodingers in that time I dare you). The diagram below shows that the numbers are comparable to the more rigorous DFT methods used in the work cited below. "
   ]
  },
  {
   "cell_type": "code",
   "execution_count": null,
   "id": "b654777b",
   "metadata": {},
   "outputs": [],
   "source": [
    "# https://doi.org/10.1016/j.molliq.2017.05.020\n",
    "from IPython import display\n",
    "display.Image(\"thiophene.jpg\")"
   ]
  },
  {
   "cell_type": "markdown",
   "id": "5de74073",
   "metadata": {},
   "source": [
    "# TRANSFER INTEGRALS\n",
    "Now we can get the transfer integral for our gsds. "
   ]
  },
  {
   "cell_type": "markdown",
   "id": "f0057235",
   "metadata": {},
   "source": [
    " That gives a sample of randomly oreinted thiophenes. Printing the average vs the max\n",
    " to get an understanding of the shape of the data. in the supplimental info of this paper\n",
    " (https://www.mdpi.com/2073-4360/10/12/1358) it says TI variation within a factor of 2-3 \n",
    " is not expected to effect the mobility calculation and this is within those bounds"
   ]
  },
  {
   "cell_type": "code",
   "execution_count": null,
   "id": "d1358ff2",
   "metadata": {
    "tags": []
   },
   "outputs": [],
   "source": [
    "heat_tuple_list = []\n",
    "transfer_integral_list = []\n",
    "path = \"/Users/jimmy/cmelab/data/TI/angled\"\n",
    "if not os.path.isdir(path):\n",
    "    os.makedirs(path)\n",
    "smi = \"C1=CSC=C1\"\n",
    "thiophene = mb.load(smi, smiles=True)\n",
    "distances = np.linspace(0, 0.5, 10)\n",
    "angles = np.linspace(0, np.pi/2, 10) # rotate around the sulfur axis (x-axis)\n",
    "# or pitch although i cant understand why the sulfur isnt the cockpit\n",
    "snap_list = []\n",
    "#create a product space of distances and angles as delineated above. get two distances\n",
    "# and two angles. assuming distance is a distance from the origin the if the distances from\n",
    "# they are on top of each other and you can skip that one as in line 13\n",
    "for d1, a1, d2, a2 in it.product(distances, angles, repeat=2):\n",
    "    name = f\"thiophene_d-{d1:.1f}-{d2:.1f}_a-{a1:.1f}-{a2:.1f}.gsd\"\n",
    "    if d1 == 0 and d2 == 0:\n",
    "        continue\n",
    "    #trying to say if the c - c distance is less than .3nm from evans paper \n",
    "    #skip they are too close for real life. and above .5 the TI is too weak\n",
    "    #just from o\n",
    "    if np.sqrt(d1**2+d2**2) < .3 or np.sqrt(d1**2+d2**2) > .5:\n",
    "        continue\n",
    "    system = mb.Compound()\n",
    "    system.add(mb.clone(thiophene), \"1\")\n",
    "    system.add(mb.clone(thiophene), \"2\")\n",
    "    system[\"2\"].rotate(a1, [0,0,1]) \n",
    "    system[\"2\"].rotate(a2,[1,0,0])\n",
    "    system[\"2\"].translate([d1,0,d2])\n",
    "    system.save(path+name, overwrite=True)\n",
    "    gsd_file = path + name\n",
    "    with gsd.hoomd.open(name=gsd_file, mode='rb') as f:\n",
    "        snap = f[0]\n",
    "        \n",
    "    ref_distance = 1\n",
    "    \n",
    "    snap.particles.position *= ref_distance\n",
    "    snap.configuration.box[:3] *= ref_distance\n",
    "    chromo_ids = np.array([0,1,2,3,4,5,6,7,8,])\n",
    "    chromo2_ids = np.array([9,10,11,12,13,14,15,16,17])\n",
    "    aaids=[]\n",
    "    aaids.append(chromo_ids)\n",
    "    aaids.append(chromo2_ids)\n",
    "    \n",
    "    chromo_list = []\n",
    "    for j,aaid in enumerate(aaids):\n",
    "        chromo_list.append(chromophores.Chromophore(j, snap, aaid, \"donor\", amber_dict))\n",
    "        \n",
    "    qcc_pairs = chromophores.set_neighbors_voronoi(chromo_list, snap, amber_dict, d_cut=100)\n",
    "    \n",
    "    dimer_data = eqcc.dimer_homolumo(qcc_pairs, chromo_list, path +\"two-molecule-test.txt\")\n",
    "    \n",
    "    data = eqcc.singles_homolumo(chromo_list, path + \"singles.txt\")\n",
    "    \n",
    "    eqcc.set_energyvalues(chromo_list, path + \"singles.txt\", path + \"two-molecule-test.txt\")\n",
    "    \n",
    "    chromo =chromo_list[1]\n",
    "    #dont know if ill need this or if the math is right\n",
    "    #ss_dist= np.sqrt((d1*np.cos(a1))**2+(d1*np.sin(a1))**2+d2**2)\n",
    "    cc_dist = np.sqrt(d1**2+d2**2)\n",
    "    heat_tuple_list.append([cc_dist, a2 , chromo.neighbors_ti[0]])\n",
    "    \n",
    "    transfer_integral_list.append(chromo.neighbors_ti[0])"
   ]
  },
  {
   "cell_type": "code",
   "execution_count": null,
   "id": "7c11283d",
   "metadata": {},
   "outputs": [],
   "source": [
    "import seaborn as sns\n",
    "x = [i[0] for i in heat_tuple_list]\n",
    "y = [i[1] for i in heat_tuple_list]\n",
    "z = [i[2] for i in heat_tuple_list]\n",
    "ax = plt.axes(projection='3d')\n",
    "ax.scatter(x, y, z, c=z, cmap='viridis', linewidth=0.5);"
   ]
  },
  {
   "cell_type": "code",
   "execution_count": null,
   "id": "06c82927",
   "metadata": {},
   "outputs": [],
   "source": [
    "#import pickle\n",
    "#system_pickle = open('transfer_integral_list.pickle','wb')\n",
    "#pickle.dump(transfer_integral_list, system_pickle)\n",
    "#system_pickle.close()"
   ]
  },
  {
   "cell_type": "code",
   "execution_count": null,
   "id": "8e4a3b81",
   "metadata": {},
   "outputs": [],
   "source": [
    "#import seaborn as sns\n",
    "x = [i[0]*10 for i in heat_tuple_list]\n",
    "y = [i[1] for i in heat_tuple_list]\n",
    "z = [i[2] for i in heat_tuple_list]\n",
    "fig = plt.figure(figsize = (10, 10))\n",
    "ax = plt.axes(projection='3d')\n",
    "plt.xticks(fontsize=14)\n",
    "plt.yticks(fontsize=14)\n",
    "\n",
    "ax.set_xlabel('Center-to-center distance (Angstrom)',fontdict=dict(weight='bold'),fontsize=16, labelpad = 12)\n",
    "ax.set_ylabel('Pitch (Radians)',fontdict=dict(weight='bold'),fontsize=16, labelpad = 12)\n",
    "ax.set_zlabel('TI (eV)',fontdict=dict(weight='bold'),fontsize=16, labelpad = 12)\n",
    "for t in ax.zaxis.get_major_ticks(): t.label.set_fontsize(14)\n",
    "#ax.set_title('Thiophene Transfer Integrals')\n",
    "p = ax.scatter(x, y, z, c=z, cmap='rainbow', linewidth=7);\n",
    "#plt.colorbar(p, pad = .1, aspect = 2.3)\n",
    "\n",
    "\n",
    "\n",
    "fig.show()"
   ]
  },
  {
   "cell_type": "code",
   "execution_count": null,
   "id": "6f8f546b",
   "metadata": {},
   "outputs": [],
   "source": [
    "fig.savefig('../src/figures/transfer_integral_plot', bbox_inches = \"tight\", facecolor = \"white\")"
   ]
  },
  {
   "cell_type": "code",
   "execution_count": null,
   "id": "7df9ddd5",
   "metadata": {},
   "outputs": [],
   "source": [
    "import pickle"
   ]
  },
  {
   "cell_type": "code",
   "execution_count": null,
   "id": "2ad40d80",
   "metadata": {},
   "outputs": [],
   "source": [
    "file = open('cc_pitch_ti-tuple.pickle','rb')\n",
    "thios = pickle.load(file)"
   ]
  },
  {
   "cell_type": "code",
   "execution_count": null,
   "id": "e8d95501",
   "metadata": {},
   "outputs": [],
   "source": [
    "#system_pickle = open('cc_pitch_ti-tuple.pickle','wb')\n",
    "#pickle.dump(heat_tuple_list, system_pickle)\n",
    "#system_pickle.close()"
   ]
  },
  {
   "cell_type": "code",
   "execution_count": null,
   "id": "fb3ce561",
   "metadata": {},
   "outputs": [],
   "source": []
  },
  {
   "cell_type": "code",
   "execution_count": null,
   "id": "1c3ea08c",
   "metadata": {},
   "outputs": [],
   "source": [
    "print(np.mean(thios))"
   ]
  },
  {
   "cell_type": "code",
   "execution_count": null,
   "id": "cdcbf7d2",
   "metadata": {},
   "outputs": [],
   "source": [
    "cc_restrict = []\n",
    "for i in heat_tuple_list:\n",
    "    if i[0] < .4 and i[0] > .38 and i[1] <.05:\n",
    "        cc_restrict.append(i[2])"
   ]
  },
  {
   "cell_type": "code",
   "execution_count": null,
   "id": "a730ae81",
   "metadata": {
    "tags": []
   },
   "outputs": [],
   "source": [
    "len(cc_restrict)"
   ]
  },
  {
   "cell_type": "code",
   "execution_count": null,
   "id": "5180b426",
   "metadata": {},
   "outputs": [],
   "source": [
    "np.mean(heat_tuple_list[0])\n"
   ]
  },
  {
   "cell_type": "code",
   "execution_count": null,
   "id": "52fd4d1d",
   "metadata": {},
   "outputs": [],
   "source": [
    "np.std(heat_tuple_list[0])"
   ]
  },
  {
   "cell_type": "code",
   "execution_count": null,
   "id": "ff68239a",
   "metadata": {
    "tags": []
   },
   "outputs": [],
   "source": [
    "heat_tuple_list\n"
   ]
  },
  {
   "cell_type": "code",
   "execution_count": null,
   "id": "f1f1fdef",
   "metadata": {},
   "outputs": [],
   "source": [
    "small_heat_tuple_list = []\n",
    "small_transfer_integral_list = []\n",
    "path = \"/Users/jimmy/cmelab/data/TI/angled\"\n",
    "if not os.path.isdir(path):\n",
    "    os.makedirs(path)\n",
    "smi = \"C1=CSC=C1\"\n",
    "thiophene = mb.load(smi, smiles=True)\n",
    "\n",
    "\n",
    "snap_list = []\n",
    "\n",
    "\n",
    "name = \"3.8angs.gsd\"\n",
    "\n",
    "system = mb.Compound()\n",
    "system.add(mb.clone(thiophene), \"1\")\n",
    "system.add(mb.clone(thiophene), \"2\")\n",
    "\n",
    "\n",
    "system[\"2\"].translate([0,0,.4])\n",
    "system.save(path+name, overwrite=True)\n",
    "gsd_file = path + name\n",
    "with gsd.hoomd.open(name=gsd_file, mode='rb') as f:\n",
    "    snap = f[0]\n",
    "\n",
    "ref_distance = 1\n",
    "\n",
    "snap.particles.position *= ref_distance\n",
    "snap.configuration.box[:3] *= ref_distance\n",
    "chromo_ids = np.array([0,1,2,3,4,5,6,7,8,])\n",
    "chromo2_ids = np.array([9,10,11,12,13,14,15,16,17])\n",
    "aaids=[]\n",
    "aaids.append(chromo_ids)\n",
    "aaids.append(chromo2_ids)\n",
    "\n",
    "chromo_list = []\n",
    "for j,aaid in enumerate(aaids):\n",
    "    chromo_list.append(chromophores.Chromophore(j, snap, aaid, \"donor\", amber_dict))\n",
    "\n",
    "qcc_pairs = chromophores.set_neighbors_voronoi(chromo_list, snap, amber_dict, d_cut=100)\n",
    "\n",
    "dimer_data = eqcc.dimer_homolumo(qcc_pairs, chromo_list, path +\"two-molecule-test.txt\")\n",
    "\n",
    "data = eqcc.singles_homolumo(chromo_list, path + \"singles.txt\")\n",
    "\n",
    "eqcc.set_energyvalues(chromo_list, path + \"singles.txt\", path + \"two-molecule-test.txt\")\n",
    "\n",
    "chromo =chromo_list[1]\n",
    "#dont know if ill need this or if the math is right\n",
    "#ss_dist= np.sqrt((d1*np.cos(a1))**2+(d1*np.sin(a1))**2+d2**2)\n",
    "\n",
    "small_heat_tuple_list.append(chromo.neighbors_ti[0])"
   ]
  },
  {
   "cell_type": "code",
   "execution_count": null,
   "id": "f8343a38",
   "metadata": {},
   "outputs": [],
   "source": [
    "small_heat_tuple_list"
   ]
  },
  {
   "cell_type": "code",
   "execution_count": null,
   "id": "48aa4387",
   "metadata": {
    "tags": []
   },
   "outputs": [],
   "source": [
    "thios[1408]"
   ]
  },
  {
   "cell_type": "code",
   "execution_count": null,
   "id": "1a26b099",
   "metadata": {},
   "outputs": [],
   "source": [
    "x = 0\n",
    "index = 0\n",
    "for i, thio in enumerate(thios):\n",
    "    if thio[2] > x:\n",
    "        x = thio[2]\n",
    "        index = i"
   ]
  },
  {
   "cell_type": "code",
   "execution_count": null,
   "id": "3ceda23f",
   "metadata": {},
   "outputs": [],
   "source": [
    "x"
   ]
  },
  {
   "cell_type": "code",
   "execution_count": null,
   "id": "46780e0e",
   "metadata": {},
   "outputs": [],
   "source": [
    "index"
   ]
  },
  {
   "cell_type": "code",
   "execution_count": null,
   "id": "550bc561",
   "metadata": {},
   "outputs": [],
   "source": [
    "%%time\n",
    "heat_tuple_list = []\n",
    "transfer_integral_list = []\n",
    "path = \"TI-04-2022-new/\"\n",
    "if not os.path.isdir(path):\n",
    "    os.makedirs(path)\n",
    "smi = \"C1=CSC=C1\"\n",
    "thiophene = mb.load(smi, smiles=True)\n",
    "distances = np.linspace(0, 0.5, 12)\n",
    "angles = np.linspace(-np.pi/2, 0, 12) # rotate around the sulfur axis (x-axis)\n",
    "# or pitch although i cant understand why the sulfur isnt the cockpit\n",
    "snap_list = []\n",
    "#create a product space of distances and angles as delineated above. get two distances\n",
    "# and two angles. assuming distance is a distance from the origin the if the distances from\n",
    "# they are on top of each other and you can skip that one as in line 13\n",
    "for d1, a1, d2, a2 in it.product(distances, angles, repeat=2):\n",
    "    name = f\"thiophene_d-{d1:.1f}-{d2:.1f}_a-{a1:.1f}-{a2:.1f}.gsd\"\n",
    "    system = mb.Compound()\n",
    "    system.add(mb.clone(thiophene), \"1\")\n",
    "    system.add(mb.clone(thiophene), \"2\")\n",
    "    system[\"2\"].rotate(a2,[1,0,0])\n",
    "    system[\"2\"].rotate(a1, [0,0,1])\n",
    "    system[\"2\"].translate([d1,0,d2])\n",
    "    bottom_atoms = system[\"1\"].xyz\n",
    "    top_atoms = system[\"2\"].xyz\n",
    "    min_dist = 10\n",
    "    #calculate distance between atoms of different ring and save the minimum distance\n",
    "    for atom in bottom_atoms:\n",
    "        for x in top_atoms:\n",
    "            if np.linalg.norm(atom - x) < min_dist:\n",
    "                min_dist = np.linalg.norm(atom - x)\n",
    "    print(min_dist)\n",
    "    #if any of the atoms are less that 3 angstoms apart we dont create the gsd\n",
    "    if min_dist > .3:\n",
    "        system.save(path+name, overwrite=True)\n",
    "        gsd_file = path + name\n",
    "        with gsd.hoomd.open(name=gsd_file, mode='rb') as f:\n",
    "            snap = f[0]\n",
    "        ref_distance = 1\n",
    "        snap.particles.position *= ref_distance\n",
    "        snap.configuration.box[:3] *= ref_distance\n",
    "        chromo_ids = np.array([0,1,2,3,4,5,6,7,8,])\n",
    "        chromo2_ids = np.array([9,10,11,12,13,14,15,16,17])\n",
    "        aaids=[]\n",
    "        aaids.append(chromo_ids)\n",
    "        aaids.append(chromo2_ids)\n",
    "        chromo_list = []\n",
    "        for j,aaid in enumerate(aaids):\n",
    "            chromo_list.append(chromophores.Chromophore(j, snap, aaid, \"donor\", amber_dict))\n",
    "        qcc_pairs = chromophores.set_neighbors_voronoi(chromo_list, snap, amber_dict, d_cut=100)\n",
    "        dimer_data = eqcc.dimer_homolumo(qcc_pairs, chromo_list, path +\"two-molecule-test.txt\")\n",
    "        data = eqcc.singles_homolumo(chromo_list, path + \"singles.txt\")\n",
    "        eqcc.set_energyvalues(chromo_list, path + \"singles.txt\", path + \"two-molecule-test.txt\")\n",
    "        chromo =chromo_list[1]\n",
    "        #dont know if ill need this or if the math is right\n",
    "        #ss_dist= np.sqrt((d1*np.cos(a1))**2+(d1*np.sin(a1))**2+d2**2)\n",
    "        cc_dist = np.sqrt(d1**2+d2**2)\n",
    "        heat_tuple_list.append([cc_dist, a1, a2 , d1, d2, chromo.neighbors_ti[0]])\n",
    "        transfer_integral_list.append(chromo.neighbors_ti[0])"
   ]
  },
  {
   "cell_type": "code",
   "execution_count": null,
   "id": "267e924d",
   "metadata": {},
   "outputs": [],
   "source": [
    "system_pickle = open('cc_a1_a2_d1_d2_ti-tuple.pickle','wb')\n",
    "pickle.dump(heat_tuple_list, system_pickle)\n",
    "system_pickle.close()"
   ]
  },
  {
   "cell_type": "code",
   "execution_count": null,
   "id": "6fc8197a",
   "metadata": {},
   "outputs": [],
   "source": [
    "heat_tuple_list[1408]"
   ]
  },
  {
   "cell_type": "code",
   "execution_count": null,
   "id": "d8577797",
   "metadata": {},
   "outputs": [],
   "source": [
    "[i[0] for i in heat_tuple_list]"
   ]
  },
  {
   "cell_type": "code",
   "execution_count": null,
   "id": "e2d868a8",
   "metadata": {},
   "outputs": [],
   "source": [
    "heat_tuple_list"
   ]
  },
  {
   "cell_type": "code",
   "execution_count": null,
   "id": "c9d6a644",
   "metadata": {},
   "outputs": [],
   "source": []
  }
 ],
 "metadata": {
  "kernelspec": {
   "display_name": "Python 3",
   "language": "python",
   "name": "python3"
  },
  "language_info": {
   "codemirror_mode": {
    "name": "ipython",
    "version": 3
   },
   "file_extension": ".py",
   "mimetype": "text/x-python",
   "name": "python",
   "nbconvert_exporter": "python",
   "pygments_lexer": "ipython3",
   "version": "3.7.10"
  }
 },
 "nbformat": 4,
 "nbformat_minor": 5
}
